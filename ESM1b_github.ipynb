{
  "nbformat": 4,
  "nbformat_minor": 0,
  "metadata": {
    "colab": {
      "provenance": []
    },
    "kernelspec": {
      "name": "python3",
      "display_name": "Python 3"
    },
    "language_info": {
      "name": "python"
    }
  },
  "cells": [
    {
      "cell_type": "code",
      "source": [
        "# cell [1]\n",
        "# Run this cell to mount your Google Drive.\n",
        "from google.colab import drive\n",
        "drive.mount('drive')\n",
        "import pandas as pd"
      ],
      "metadata": {
        "colab": {
          "base_uri": "https://localhost:8080/"
        },
        "id": "1A9dc8H54kjR",
        "outputId": "604fc2c5-b622-48f9-a290-d1f66245410f"
      },
      "execution_count": 1,
      "outputs": [
        {
          "output_type": "stream",
          "name": "stdout",
          "text": [
            "Mounted at drive\n"
          ]
        }
      ]
    },
    {
      "cell_type": "markdown",
      "source": [
        "VEP input needs to be in VCF format. Otherwise, VEP may output warnings or have missing variants. You'll need to run VEP again with the missing variant in VCF format, which includes its location."
      ],
      "metadata": {
        "id": "EE1swRan4a2c"
      }
    },
    {
      "cell_type": "code",
      "execution_count": 3,
      "metadata": {
        "id": "Qz7xbd_k4V3o"
      },
      "outputs": [],
      "source": [
        "# cell [2]\n",
        "# Annotations must be VEP output. Replace with appropriate file location for filepath and file name for filename.\n",
        "filepath = \"/content/drive/MyDrive/data/arboleda/\"\n",
        "filename = \"ESM1b_test_vep.txt\"\n",
        "file_name_i = filepath + filename\n",
        "\n",
        "# Skips rows until reaching header of VEP output.\n",
        "skip = 0\n",
        "with open(file_name_i,'r') as data_file:\n",
        "  data = data_file.readlines()\n",
        "for line in data:\n",
        "  if \"#Uploaded_variation\" not in line:\n",
        "    skip += 1\n",
        "  if \"#Uploaded_variation\" in line:\n",
        "    break\n",
        "annotations = pd.read_csv(file_name_i, sep=\"\\t\", skiprows=skip)\n",
        "annotations.head()\n",
        "\n",
        "# Reformats UniProtKB IDs for variant isoforms that end in \"-1\".\n",
        "for i in range (0, len(annotations)):\n",
        "  if (annotations.loc[i, \"UNIPROT_ISOFORM\"] != \"-\" and annotations.loc[i, \"UNIPROT_ISOFORM\"][-2:] == \"-1\"):\n",
        "    annotations.loc[i, \"UNIPROT_ISOFORM\"] = annotations.loc[i, \"UNIPROT_ISOFORM\"][:-2]\n",
        "annotations = annotations.reset_index(drop=True)\n",
        "\n",
        "# Creates a new column for protein change to be used in ESM1b input.\n",
        "annotations[\"Protein_change\"] = \"\"\n",
        "for i in range(0, len(annotations)):\n",
        "  if ((\"/\" in annotations[\"Amino_acids\"][i]) and (annotations[\"Protein_position\"][i] != \"-\")):\n",
        "    protein_change = annotations[\"Amino_acids\"][i].split(\"/\")[0] + annotations[\"Protein_position\"][i] + annotations[\"Amino_acids\"][i].split(\"/\")[1]\n",
        "    annotations.loc[i, \"Protein_change\"] = protein_change\n",
        "\n",
        "# Creates a list of ENSP IDs for variants missing UniProtKB IDs for BioMart input.\n",
        "missing_uniprot = annotations.drop_duplicates(subset=\"ENSP\")\n",
        "missing_uniprot = missing_uniprot[missing_uniprot[\"UNIPROT_ISOFORM\"] == \"-\"]\n",
        "missing_uniprot = missing_uniprot[missing_uniprot[\"ENSP\"] != \"-\"] ## FIX ME: No entry for variants that don't have ENSP IDs ##\n",
        "missing_uniprot = missing_uniprot.reset_index(drop=True)\n",
        "\n",
        "# Manually upload file with missing UniProtKB IDs into BioMart with proper settings.\n",
        "output = missing_uniprot[\"ENSP\"]\n",
        "output.to_csv(filepath + \"biomart.csv\", header=False, index=False)\n",
        "# http://useast.ensembl.org/biomart/martview/"
      ]
    },
    {
      "cell_type": "markdown",
      "source": [
        "Ensembl Genes 112 > Human genes (GRCh38.p14)\n",
        "\n",
        "Filters > Gene > Input external references ID list [Max 500 advised] > Protein stable ID(s) [e.g. ENSP00000000233] > Choose File > biomart.csv\n",
        "\n",
        "Attributes > Gene > Ensembl > Protein stable ID\n",
        "\n",
        "Uncheck Gene stable ID, Gene stable ID version, Transcript stable ID, Transcript stable ID version\n",
        "\n",
        "Attributes > External > UniProtKB Gene Name ID, UniProtKB isoform ID\n",
        "\n",
        "Results > Unique results only > Go"
      ],
      "metadata": {
        "id": "0KsGIgxu4tEo"
      }
    },
    {
      "cell_type": "code",
      "source": [
        "# cell [3]\n",
        "# Put retrieved UniProtKB IDs from BioMart back into VEP annotation.\n",
        "found_names = pd.read_csv(filepath + \"mart_export.txt\", sep=\"\\t\")\n",
        "\n",
        "# Prioritizes UniProtKB Isoform IDs, otherwise uses UniProtKB Gene IDs.\n",
        "for i in range (0, len(found_names)):\n",
        "  if pd.isna(found_names[\"UniProtKB isoform ID\"][i]):\n",
        "    found_names.loc[i, \"UniProtKB isoform ID\"] = found_names.loc[i, \"UniProtKB Gene Name ID\"]\n",
        "\n",
        "found_names = found_names.drop(\"UniProtKB Gene Name ID\", axis=1)\n",
        "found_names.dropna(subset=\"UniProtKB isoform ID\").reset_index(drop=True)\n",
        "found_names.sort_values(\"Protein stable ID\").reset_index(drop=True)\n",
        "\n",
        "# Creates a list of UniProtKB IDs outputted for one ENSP ID and matches it back to VEP annotations.\n",
        "uniprot = \"\"\n",
        "for i in range (0, len(found_names)-1):\n",
        "  old_name = found_names[\"Protein stable ID\"][i]\n",
        "  new_name = found_names[\"Protein stable ID\"][i+1]\n",
        "  if new_name != old_name and type(found_names[\"UniProtKB isoform ID\"][i]) != float:\n",
        "    uniprot += found_names[\"UniProtKB isoform ID\"][i]\n",
        "    index = annotations.index[annotations[\"ENSP\"]==old_name].tolist()\n",
        "    for j in range(0, len(index)):\n",
        "      if (annotations.loc[index[j], \"UNIPROT_ISOFORM\"] == \"-\"):\n",
        "        annotations.loc[index[j], \"UNIPROT_ISOFORM\"] = uniprot\n",
        "    uniprot = \"\"\n",
        "  else:\n",
        "    if type(found_names[\"UniProtKB isoform ID\"][i]) != float:\n",
        "      uniprot += found_names[\"UniProtKB isoform ID\"][i] + \", \"\n",
        "uniprot += found_names[\"UniProtKB isoform ID\"][len(found_names)-1]\n",
        "index = annotations.index[annotations[\"ENSP\"]==old_name].tolist()\n",
        "for j in range(0, len(index)):\n",
        "  if (annotations.loc[index[j], \"UNIPROT_ISOFORM\"] == \"-\"):\n",
        "    annotations.loc[index[j], \"UNIPROT_ISOFORM\"] = uniprot\n",
        "\n",
        "# Takes each UniProtKB ID for each entry and associated protein change to get ESM1b scores.\n",
        "df = pd.DataFrame(columns=[\"uniprot_id\", \"protein_change\"])\n",
        "for i in range(0, len(annotations)):\n",
        "  if (\"/\" in annotations[\"Amino_acids\"][i]) and (annotations[\"Protein_position\"][i] != \"-\") and (annotations[\"UNIPROT_ISOFORM\"][i] != \"-\"):\n",
        "    IDs = annotations[\"UNIPROT_ISOFORM\"][i].split(\", \")\n",
        "    protein = annotations[\"Amino_acids\"][i].split(\"/\")[0] + annotations[\"Protein_position\"][i] + annotations[\"Amino_acids\"][i].split(\"/\")[1]\n",
        "  for j in range(0, len(IDs)):\n",
        "    new_row = [IDs[j], protein]\n",
        "    df.loc[len(df)] = new_row\n",
        "df = df.drop_duplicates().reset_index(drop=True)\n",
        "\n",
        "# Output to run through pipeline on Hoffman2 for ESM1b scores.\n",
        "df.to_csv(filepath + \"run_ESM1b.csv\", index=False)\n",
        "# Upload run_ESM1b to Hoffman2 and ./get_ESM1b."
      ],
      "metadata": {
        "id": "JKqwejpj4ewq"
      },
      "execution_count": 4,
      "outputs": []
    },
    {
      "cell_type": "code",
      "source": [
        "# cell [4]\n",
        "# Puts most severe ESM1b scores into new column in VEP annotations.\n",
        "ESM1b_scores = pd.read_csv(filepath + \"ESM1b_scores.csv\")\n",
        "annotations[\"ESM1b\"] = '-'\n",
        "for i in range(0, len(ESM1b_scores)):\n",
        "  uniprot_id = ESM1b_scores[\"uniprot_id\"][i]\n",
        "  protein_change = ESM1b_scores[\"protein_change\"][i]\n",
        "  score = ESM1b_scores[\"score\"][i]\n",
        "  index = annotations.index[annotations[\"Protein_change\"]==protein_change].tolist()\n",
        "  for j in range(0, len(index)):\n",
        "    if uniprot_id in annotations.loc[index[j], \"UNIPROT_ISOFORM\"]:\n",
        "      if (annotations[\"ESM1b\"][index[j]] != '-'):\n",
        "        if score < annotations.loc[index[j], \"ESM1b\"]:\n",
        "          annotations.loc[index[j], \"ESM1b\"] = score\n",
        "      else:\n",
        "        if (pd.isna(score) != True):\n",
        "          annotations.loc[index[j], \"ESM1b\"] = score\n",
        "\n",
        "# Replace entries with empty ESM1b scores with '-'.\n",
        "for i in range(0, len(annotations)):\n",
        "  if pd.isna(annotations[\"ESM1b\"][i]):\n",
        "    annotations.loc[i, \"ESM1b\"] = '-'\n",
        "\n",
        "# Delete extra Protein_change column.\n",
        "annotations = annotations.drop('Protein_change', axis=1)\n",
        "\n",
        "# Final VEP annotations with column for ESM1b scores.\n",
        "file_name_o = filepath + filename.split(\".\")[0] + \"_v2.csv\"\n",
        "annotations.to_csv(file_name_o, index=False)"
      ],
      "metadata": {
        "id": "XHSAG_9w4f6M"
      },
      "execution_count": 5,
      "outputs": []
    }
  ]
}
